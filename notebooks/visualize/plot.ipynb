{
 "cells": [
  {
   "cell_type": "code",
   "execution_count": null,
   "metadata": {},
   "outputs": [],
   "source": [
    "cd ../../"
   ]
  },
  {
   "cell_type": "code",
   "execution_count": null,
   "metadata": {},
   "outputs": [],
   "source": [
    "ls"
   ]
  },
  {
   "cell_type": "code",
   "execution_count": null,
   "metadata": {},
   "outputs": [],
   "source": []
  },
  {
   "cell_type": "code",
   "execution_count": null,
   "metadata": {},
   "outputs": [],
   "source": [
    "import torch\n",
    "import numpy as np\n",
    "import matplotlib.pyplot as plt\n",
    "\n",
    "no_prune_base_path = \"./logs/{ENV}/{TRIAL}/n_episodes_{N_EPISODE}/seed_{SEED}/{DATE}/save_dict.pkl\"\n",
    "is_prune_base_path = \"./logs/{ENV}/{TRIAL}/n_episodes_{N_EPISODE}/remain_rate_30/seed_{SEED}/{DATE}/save_dict.pkl\"\n",
    "\n",
    "\"\"\"\n",
    "ENV = \"BreakoutNoFrameskip-v4\"\n",
    "DATE_NO_PRUNE_LIST = [\"2024_02_29_16_50_14\", \"2024_02_29_18_11_28\", \"2024_02_29_23_25_57\"]\n",
    "DATE_IS_PRUNE_LIST = [\"2024_02_29_16_48_22\", \"2024_02_29_20_09_42\", \"2024_03_01_06_45_25\"]\n",
    "EPISODES = [300, 600, 900]\n",
    "\"\"\"\n",
    "\n",
    "ENV = \"PongNoFrameskip-v4\"\n",
    "DATE_NO_PRUNE_LIST = [\"2024_02_24_21_21_45\", \"2024_02_26_02_14_48\"]\n",
    "DATE_IS_PRUNE_LIST = [\"2024_02_25_00_52_58\", \"2024_02_26_17_56_51\"]\n",
    "EPISODES = [600, 900]\n",
    "\n",
    "\n",
    "\n",
    "plt.figure(figsize=(10, 6))\n",
    "\n",
    "for idx, e in enumerate(EPISODES):\n",
    "    # 'is_prune' rewards\n",
    "    all_no_prune_rewards = []\n",
    "    for seed in np.arange(5):\n",
    "        path = no_prune_base_path.format(ENV=ENV, TRIAL=\"no_prune\", N_EPISODE=e, SEED=seed, DATE=DATE_NO_PRUNE_LIST[idx])\n",
    "        reward_list = torch.load(path)['rewards']\n",
    "        all_no_prune_rewards.append(reward_list)\n",
    "    \n",
    "    mean_no_prune_rewards = np.mean(np.array(all_no_prune_rewards), axis=0)\n",
    "    std_no_prune_rewards = np.std(np.array(all_no_prune_rewards), axis=0)\n",
    "\n",
    "    # 'no_prune' rewards\n",
    "    all_is_prune_rewards = []\n",
    "    for seed in np.arange(5):\n",
    "        path = is_prune_base_path.format(ENV=ENV, TRIAL=\"is_prune\", N_EPISODE=e, SEED=seed, DATE=DATE_IS_PRUNE_LIST[idx])\n",
    "        reward_list = torch.load(path)['rewards']\n",
    "        all_is_prune_rewards.append(reward_list)\n",
    "    \n",
    "    mean_is_prune_rewards = np.mean(np.array(all_is_prune_rewards), axis=0)\n",
    "    std_is_prune_rewards = np.std(np.array(all_is_prune_rewards), axis=0)\n",
    "\n",
    "    # Plotting both 'is_prune' and 'no_prune' rewards\n",
    "    episodes_range = range(1, len(mean_is_prune_rewards) + 1)\n",
    "    plt.plot(episodes_range, mean_is_prune_rewards, label=f'Is Prune (Episode {e}) Mean Reward')\n",
    "    plt.fill_between(episodes_range, mean_is_prune_rewards - std_is_prune_rewards, mean_is_prune_rewards + std_is_prune_rewards, alpha=0.5)\n",
    "\n",
    "    plt.plot(episodes_range, mean_no_prune_rewards, label=f'No Prune (Episode {e}) Mean Reward')\n",
    "    plt.fill_between(episodes_range, mean_no_prune_rewards - std_no_prune_rewards, mean_no_prune_rewards + std_no_prune_rewards, alpha=0.5)\n",
    "\n",
    "    plt.title(\"Mean and std of Rewards over Episodes at {}\".format(ENV))\n",
    "    plt.xlabel(\"Episode\")\n",
    "    plt.ylabel(\"Reward\")\n",
    "    plt.legend()\n",
    "    plt.show()\n"
   ]
  },
  {
   "cell_type": "code",
   "execution_count": null,
   "metadata": {},
   "outputs": [],
   "source": [
    "EPISODE = 600\n",
    "path = base_path.format(ENV=ENV, TRIAL=TRIAL, N_EPISODE=EPISODE, SEED_NUM=0, DATE=DATE)\n",
    "print(path)"
   ]
  },
  {
   "cell_type": "code",
   "execution_count": null,
   "metadata": {},
   "outputs": [],
   "source": [
    "./logs/BreakoutNoFrameskip-v4/no_prune/n_episodes_300/seed_0/2024_02_29_16_50_14/save_dict.pkl\n",
    "'./logs/BreakoutNoFrameskip-v4/no_prune/n_episodes_300/remain_rate_30/seed_0/2024_02_29_16_50_14/save_dict.pkl"
   ]
  },
  {
   "cell_type": "code",
   "execution_count": null,
   "metadata": {},
   "outputs": [],
   "source": [
    "from datetime import datetime\n",
    "import re\n",
    "\n",
    "log_file_path = \"/home/fujisaki/Research/atari-pruning/logs/PongNoFrameskip-v4/is_prune/n_episodes_900/remain_rate_30/seed_0/2024_02_26_17_56_51/log.txt\"\n",
    "\n",
    "def calculate_episode_duration(log_file_path, start_episode, end_episode):\n",
    "    start_time = None\n",
    "    end_time = None\n",
    "    time_format = \"%Y-%m-%d %H:%M:%S,%f\"\n",
    "\n",
    "    with open(log_file_path, 'r') as file:\n",
    "        for line in file:\n",
    "            # Check if line contains the start episode\n",
    "            if f\"Episode: {start_episode},\" in line:\n",
    "                start_time_str = line.split(\" - \")[0]\n",
    "                start_time = datetime.strptime(start_time_str, time_format)\n",
    "            # Check if line contains the end episode\n",
    "            elif f\"Episode: {end_episode},\" in line:\n",
    "                end_time_str = line.split(\" - \")[0]\n",
    "                end_time = datetime.strptime(end_time_str, time_format)\n",
    "                # Once the end time is found, break the loop\n",
    "                break\n",
    "\n",
    "    # Ensure both start and end times were found\n",
    "    if start_time and end_time:\n",
    "        # Calculate duration\n",
    "        duration = end_time - start_time\n",
    "        return duration\n",
    "    else:\n",
    "        return \"Start or end episode timestamp not found.\"\n",
    "\n",
    "duration = calculate_episode_duration(log_file_path, 1, 900)\n",
    "print(f\"Total duration from Episode 1 to Episode 900: {duration}\")\n"
   ]
  },
  {
   "cell_type": "code",
   "execution_count": null,
   "metadata": {},
   "outputs": [],
   "source": []
  }
 ],
 "metadata": {
  "kernelspec": {
   "display_name": "Python 3",
   "language": "python",
   "name": "python3"
  },
  "language_info": {
   "codemirror_mode": {
    "name": "ipython",
    "version": 3
   },
   "file_extension": ".py",
   "mimetype": "text/x-python",
   "name": "python",
   "nbconvert_exporter": "python",
   "pygments_lexer": "ipython3",
   "version": "3.9.0"
  },
  "orig_nbformat": 4
 },
 "nbformat": 4,
 "nbformat_minor": 2
}
